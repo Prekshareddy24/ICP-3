{
  "nbformat": 4,
  "nbformat_minor": 0,
  "metadata": {
    "colab": {
      "provenance": []
    },
    "kernelspec": {
      "name": "python3",
      "display_name": "Python 3"
    },
    "language_info": {
      "name": "python"
    }
  },
  "cells": [
    {
      "cell_type": "code",
      "source": [
        "#Question 1\n",
        "\n",
        "import numpy as np\n",
        "\n",
        "# Create a random vector of size 15 with integers in the range 1-20\n",
        "random_vector = np.random.randint(1, 20, size=15)\n",
        "print(random_vector)\n",
        "\n",
        "# Reshape the array to 3 by 5\n",
        "reshaped_array = random_vector.reshape(3, 5)\n",
        "\n",
        "# Print array shape\n",
        "print(\"Array shape before replacing max values:\")\n",
        "print(reshaped_array.shape)\n",
        "\n",
        "# Replace the max in each row by 0\n",
        "max_indices = np.argmax(reshaped_array, axis=1)\n",
        "for i in range(len(reshaped_array)):\n",
        "    reshaped_array[i, max_indices[i]] = 0\n",
        "\n",
        "# Print array shape after replacing max values\n",
        "print(\"\\nArray shape after replacing max values:\")\n",
        "print(reshaped_array.shape)\n",
        "\n",
        "# Create a 2-dimensional array of size 4 x 3 (composed of 4-byte integer elements)\n",
        "#array_2d = np.zeros((4, 3), dtype=np.int32)\n",
        "array_2d = np.random.randint(low=-100, high=100, size=(4, 3),dtype=np.int32)\n",
        "print(array_2d)\n",
        "\n",
        "# Print shape, type, and data type of the array\n",
        "print(\"\\nArray shape:\", array_2d.shape)\n",
        "print(\"Array type:\", type(array_2d))\n",
        "print(\"Array data type:\", array_2d.dtype)"
      ],
      "metadata": {
        "colab": {
          "base_uri": "https://localhost:8080/"
        },
        "id": "HgTdczRxIZKS",
        "outputId": "ea2f05b9-ee31-4401-e824-973f438e4f00"
      },
      "execution_count": 9,
      "outputs": [
        {
          "output_type": "stream",
          "name": "stdout",
          "text": [
            "[ 7  8  9  6 14 13  5 16 10 15  1 13  9 12  2]\n",
            "Array shape before replacing max values:\n",
            "(3, 5)\n",
            "\n",
            "Array shape after replacing max values:\n",
            "(3, 5)\n",
            "[[-74  78 -35]\n",
            " [-67  12 -49]\n",
            " [ 63 -11   7]\n",
            " [ 97 -63 -93]]\n",
            "\n",
            "Array shape: (4, 3)\n",
            "Array type: <class 'numpy.ndarray'>\n",
            "Array data type: int32\n"
          ]
        }
      ]
    },
    {
      "cell_type": "code",
      "source": [
        "#Question 2\n",
        "\n",
        "import numpy as np\n",
        "\n",
        "# Define the square array\n",
        "array = np.array([[3, -2], [1, 0]])\n",
        "\n",
        "# Compute eigenvalues and right eigenvectors\n",
        "eigenvalues, eigenvectors = np.linalg.eig(array)\n",
        "\n",
        "# Print the eigenvalues and right eigenvectors\n",
        "print(\"Eigenvalues:\")\n",
        "print(eigenvalues)\n",
        "print(\"\\nRight Eigenvectors:\")\n",
        "print(eigenvectors)\n"
      ],
      "metadata": {
        "colab": {
          "base_uri": "https://localhost:8080/"
        },
        "id": "1N_yNMfaIdro",
        "outputId": "3eb5409c-c473-4973-8e0b-7655be8c694e"
      },
      "execution_count": 10,
      "outputs": [
        {
          "output_type": "stream",
          "name": "stdout",
          "text": [
            "Eigenvalues:\n",
            "[2. 1.]\n",
            "\n",
            "Right Eigenvectors:\n",
            "[[0.89442719 0.70710678]\n",
            " [0.4472136  0.70710678]]\n"
          ]
        }
      ]
    },
    {
      "cell_type": "code",
      "source": [
        "#Question 3\n",
        "import numpy as np\n",
        "\n",
        "# Define the array\n",
        "array = np.array([[0, 1, 2], [3, 4, 5]])\n",
        "\n",
        "\n",
        "# Compute the sum of the diagonal elements\n",
        "diagonal_sum = np.trace(array)\n",
        "\n",
        "# Print the sum\n",
        "print(\"Sum of diagonal elements:\", diagonal_sum)"
      ],
      "metadata": {
        "colab": {
          "base_uri": "https://localhost:8080/"
        },
        "id": "yg4ilKEKJAqF",
        "outputId": "63c5f583-6176-4306-99bb-3274f3780287"
      },
      "execution_count": 11,
      "outputs": [
        {
          "output_type": "stream",
          "name": "stdout",
          "text": [
            "Sum of diagonal elements: 4\n"
          ]
        }
      ]
    },
    {
      "cell_type": "code",
      "source": [
        "#Question 4\n",
        "\n",
        "import numpy as np\n",
        "\n",
        "# Define the arrays\n",
        "array1 = np.array([[1, 2], [3, 4], [5, 6]])  # 3x2 array\n",
        "array2 = np.array([[1, 2, 3], [4, 5, 6]])    # 2x3 array\n",
        "\n",
        "# Reshape array1 to 2x3 without changing its data\n",
        "reshaped_array1 = np.reshape(array1, (2, 3))\n",
        "\n",
        "# Reshape array2 to 3x2 without changing its data\n",
        "reshaped_array2 = np.reshape(array2, (3, 2))\n",
        "\n",
        "# Print the reshaped arrays\n",
        "print(\"Reshaped array1 (2x3):\")\n",
        "print(reshaped_array1)\n",
        "print(\"\\nReshaped array2 (3x2):\")\n",
        "print(reshaped_array2)"
      ],
      "metadata": {
        "colab": {
          "base_uri": "https://localhost:8080/"
        },
        "id": "qRhqduziJE-l",
        "outputId": "732eeeb9-0461-4666-a0d5-b52ca410e5cf"
      },
      "execution_count": 12,
      "outputs": [
        {
          "output_type": "stream",
          "name": "stdout",
          "text": [
            "Reshaped array1 (2x3):\n",
            "[[1 2 3]\n",
            " [4 5 6]]\n",
            "\n",
            "Reshaped array2 (3x2):\n",
            "[[1 2]\n",
            " [3 4]\n",
            " [5 6]]\n"
          ]
        }
      ]
    }
  ]
}